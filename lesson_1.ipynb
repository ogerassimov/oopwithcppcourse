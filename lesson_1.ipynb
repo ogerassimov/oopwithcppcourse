{
 "cells": [
  {
   "cell_type": "markdown",
   "id": "e347d499",
   "metadata": {},
   "source": [
    "# ООП с C++\n",
    "\n"
   ]
  },
  {
   "cell_type": "markdown",
   "id": "1202a3f6",
   "metadata": {},
   "source": [
    "# Интегрирана Среда За Разработка, IDE\n",
    "\n",
    "## Подредете своето работно място\n",
    "\n",
    "Преди да си говорим за каквото и да било е необходимо да си подредим инструментите за работа, това означава да разполагаме с програмите, които са ни нужни за разработка на приложения на C++ - това са основно компилатора за C++, дебъгера, текстовият редактор, с който ще се пишат програмите, както и сорс контрол системата. Каго наложено от практиката е да се използва една такава програма с удобен графичен интерфейс която осигурявам всичко това накуп, или интергира в себе си скива начина на работа с компилатора, дебъгера, правейки употребата им от програмистите проста, това е така наречената **интегрирана среда за разработка** \n",
    "\n",
    "Интегрирана среда за разработка\n",
    "\n",
    "    An integrated development environment (IDE) is a software application that provides comprehensive facilities to computer programmers for software development. An IDE normally consists of at least a source code editor, build automation tools, and a debugger.[1]\n",
    "\n",
    "### Интегрирани среди\n",
    "\n",
    "Това което ще бъде използвано в настоящия курс са\n",
    "\n",
    "1. Replit    https://replit.com\n",
    "    \n",
    "Изцяло onlain IDE за разработка. За C++ използва Gnu C/C++ като компилатор. \n",
    "\n",
    "2. CodeBlock   http://www.codeblocks.org\n",
    "\n",
    "Можете да го инсталирате \n",
    "\n",
    "- Windows\n",
    "\tCode Blocks Windows 64 bit (including compiler) http://www.codeblocks.org/downloads/binaries/\n",
    "\t\tcodeblocks-20.03mingw-setup.exe\n",
    "- Linux\n",
    "\tОт репозиторито към съответната дистрибуция\n",
    "    \n",
    "3. Microsoft Visual Studio 2020.\n",
    "\n",
    "Препоръката ми е да се ориентирате към към Gnu C/C++ компилатора, освен ако не ви се налага да разработвате приложения специално за Microsoft Windows.\n",
    "\n",
    "### Подредете своят “тезгях”\n",
    "\n",
    "Това означава да инсталирате IDE за разработка, както и да се запознаете с начина за работа. Включва и написването на простичката програма \"Hello World.\"\n"
   ]
  },
  {
   "cell_type": "markdown",
   "id": "fd1c9752",
   "metadata": {},
   "source": [
    "## Първи стъпки\n",
    "\n",
    "### Hello World"
   ]
  },
  {
   "cell_type": "raw",
   "id": "06fa525d",
   "metadata": {},
   "source": [
    "#include <iostream>\n",
    "\n",
    "int main() {\n",
    "  std::cout << \"Hello World!\\n\";\n",
    "}"
   ]
  },
  {
   "cell_type": "markdown",
   "id": "519d2e35",
   "metadata": {},
   "source": [
    "#### Пример Алгоритъм на Евклид, за намиране на най-голям общ делител, и най-малко общо кратно.\n",
    "(отпада за домашна ...)\n"
   ]
  },
  {
   "cell_type": "raw",
   "id": "316d3ae6",
   "metadata": {},
   "source": [
    "#include <iostream>\n",
    "using namespace std;\n",
    "\n",
    "// Calculate Greatest common divisor\n",
    "int gcd(int a, int b) {\n",
    "  int r1 = max(a, b);\n",
    "  int r2 = min(a, b);\n",
    "  while (r2 != 0) {\n",
    "    int r3 = r1 % r2;\n",
    "    r1 = r2;\n",
    "    r2 = r3;\n",
    "  }\n",
    "  return r1;\n",
    "}\n",
    "\n",
    "int lcm(int a, int b) { return a * b / gcd(a, b); }\n",
    "\n",
    "int main() {\n",
    "  cout << \"Please enter two numbers : \" << endl;\n",
    "  int a = 0, b = 0;\n",
    "  cin >> a >> b;\n",
    "  int d = gcd(a, b);\n",
    "  cout << \"Greatest common divisor : \" << d << endl;\n",
    "  cout << \"Least common multiple : \" << lcm(a, b) << endl;\n",
    "  return 0;\n",
    "}"
   ]
  },
  {
   "cell_type": "markdown",
   "id": "0a2cd55c",
   "metadata": {},
   "source": [
    "\n",
    "### Използвайте дебъгера за да видите как работи горната програма\n",
    "\n",
    "Въведете числата 15 и 18 и изпълнявайте програмата линия по линия като следите стойностите на променливите. \n",
    "\n",
    "Работа с дебъгера."
   ]
  },
  {
   "cell_type": "markdown",
   "id": "859b94d5",
   "metadata": {},
   "source": [
    "# Примери с които да си припомним C\n",
    "\n",
    "### Масиви \n",
    "\n",
    "Масивът съдържа множество от обекти от идентични типове, съхранявани последователно в паметта. Отделните обекти в масива, се наричат елементи на масива, и могат да бъдат адресирани с помощта на число, номер, който се нарича индекс [2].\n",
    "\n",
    "In computer science, an array is a data structure consisting of a collection of elements (values or variables), each identified by at least one array index or key. An array is stored such that the position of each element can be computed from its index tuple by a mathematical formula. The simplest type of data structure is a linear array, also called one-dimensional array.[3]\n",
    "\n",
    "\n",
    "##### Дефиниране на масиви\n",
    "\n",
    "Дефиницията включва името на масива, типа и броя на елементите на масива. [2]\n",
    "\n",
    "###### Синтаксис\n",
    "\n",
    "    type name[count]; // Array name\n",
    "\n",
    "Пример\n",
    "\n",
    "    float arr[25];\n",
    "    \n",
    "Като елементите му имат индекси от 0 до 24 включително. \n",
    "\n",
    "Променливана arr е от производен тип масив от float елементи - \"array of float elements\".\n",
    "\n",
    "**Масивът винаги заема *непрекъснато* място в паметта.**\n",
    "\n",
    "###### Индекси на елементите на масив\n",
    "\n",
    "Операторът [] се използва за достъп до индивидуалните елементи на масива. Елемента с даден индекс се достъпва като сe напише името на масива последвано от заградения със скобите [] индекс на елемента. В C++ индексът винаги започна от нула.\n",
    "\n",
    "###### Синтаксис\n",
    "    name[index]\n",
    "\n",
    "Елементите на масива от примера arr са както следва:\n",
    "arr[0], arr[1] , arr[2], ... , arr[24]\n",
    "\n",
    "**В C/C++ всеки масив от n eлемента, елементите му имат индекси от 0 до n-1 включително.** \n",
    "\n",
    "Пример създаване на масив от n елемента, от стека и попълването му от входа на програмата"
   ]
  },
  {
   "cell_type": "raw",
   "id": "263569dc",
   "metadata": {},
   "source": [
    "int n = 0;\n",
    "std::cin >> n; // чете броя на елементите на масива от входа\n",
    "\n",
    "int a[n];\n",
    "\n",
    "for( int i = 0; i < n; ++i ) {\n",
    "    std::cin >> a[i];\n",
    "}"
   ]
  },
  {
   "cell_type": "markdown",
   "id": "08c58681",
   "metadata": {},
   "source": [
    "... и извеждатето му на екрана"
   ]
  },
  {
   "cell_type": "raw",
   "id": "43790b99",
   "metadata": {},
   "source": [
    "for( int i = 0; i < n; ++i ) {\n",
    "    std::cout << a[i] << \", \";\n",
    "}"
   ]
  },
  {
   "cell_type": "markdown",
   "id": "e25bcb5c",
   "metadata": {},
   "source": [
    "### Списъци за инициализация на масиви от прости типове.\n",
    "\n",
    "Масивите могат да бъдат инициализирани когато ги дефинираме. Списък съдържащ стойтостите на отделните елементи на масива, се ползва за неговата инициализация:\n",
    "\n",
    "Пример: \n",
    "\n",
    "    int num[3] = { 30, 50, 80 };\n",
    "    \n",
    "Ако инициализирате масива, когато го дефинирате не се нуждаете да определяне неговата дължина.\n",
    "\n",
    "Пример:\n",
    "    \n",
    "    int num[] = { 30, 50, 80 };\n",
    "\n",
    "\n",
    "#### char[] \n",
    "Когато масивите са от тип символи char може да се инициализират и така:\n",
    "\n",
    "    char name[] = \"Hugo\";\n",
    "\n",
    "Тази дефиниция е еквивалентна на:\n",
    "\n",
    "    char name[] = { 'H','u','g','o','\\0' };"
   ]
  },
  {
   "cell_type": "markdown",
   "id": "9ec3a3c2",
   "metadata": {},
   "source": [
    "##### Задача. 10 мин самостоятелна работа.\n",
    "\n",
    "##### Намерете мажорантата на един масив, 10 мин самостоятелна работа. \n",
    "    \n",
    "Имате масив от числа, една стойност се нарича мажорираща, ако се среща в масива повече от половината на брой пъти, напишете функция която да казва дали един масив има мажориращ елемент и ако да да връща кой е той.\n",
    "\n",
    "Например \n",
    "int a[] = {2, 1, 3, 2, 3, 2, 3, 4, 3 ,3, 1, 3, 4, 3, 3};\n",
    "\n",
    "Има мажориращ елемент със стойност 3 тъй като се среща 8 на брой пъти от общо 15 елемента на масива."
   ]
  },
  {
   "cell_type": "code",
   "execution_count": null,
   "id": "2141ee50",
   "metadata": {},
   "outputs": [],
   "source": []
  },
  {
   "cell_type": "markdown",
   "id": "6b1584c5",
   "metadata": {},
   "source": [
    "Литература\n",
    "\n",
    "[1] https://en.wikipedia.org/wiki/Integrated_development_environment\n",
    "\n",
    "[2] A Complete Guide to Programming in C++ Prinze&Prinze\n",
    "\n",
    "[3] https://en.wikipedia.org/wiki/Array_(data_structure)"
   ]
  },
  {
   "cell_type": "code",
   "execution_count": null,
   "id": "ca373b1f",
   "metadata": {},
   "outputs": [],
   "source": []
  }
 ],
 "metadata": {
  "kernelspec": {
   "display_name": "Python 3 (ipykernel)",
   "language": "python",
   "name": "python3"
  },
  "language_info": {
   "codemirror_mode": {
    "name": "ipython",
    "version": 3
   },
   "file_extension": ".py",
   "mimetype": "text/x-python",
   "name": "python",
   "nbconvert_exporter": "python",
   "pygments_lexer": "ipython3",
   "version": "3.10.9"
  }
 },
 "nbformat": 4,
 "nbformat_minor": 5
}
